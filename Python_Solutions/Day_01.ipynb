{
 "cells": [
  {
   "cell_type": "markdown",
   "metadata": {},
   "source": [
    "## Day 01"
   ]
  },
  {
   "cell_type": "markdown",
   "metadata": {},
   "source": [
    "### Part 1"
   ]
  },
  {
   "cell_type": "code",
   "execution_count": 2,
   "metadata": {},
   "outputs": [
    {
     "name": "stdout",
     "output_type": "stream",
     "text": [
      "Sum of all instructions:  55172\n"
     ]
    }
   ],
   "source": [
    "file = open(\"../Data/input_01.txt\", \"r\")\n",
    "content = file.read().split('\\n')[:-1]\n",
    "\n",
    "def find_instructions(content):\n",
    "    instructions = []\n",
    "    for l in content:\n",
    "        numbers = ('').join( re.findall('[0-9]+', l) ) \n",
    "\n",
    "        if len(numbers) == 0:\n",
    "            print('no nums', l)\n",
    "\n",
    "        else:\n",
    "            instructions.append( int(('').join( [numbers[0], numbers[-1]])) )\n",
    "\n",
    "    return instructions\n",
    "\n",
    "instructions = find_instructions(content)\n",
    "print('Sum of all instructions: ', sum(instructions))\n",
    "file.close()"
   ]
  },
  {
   "cell_type": "markdown",
   "metadata": {},
   "source": [
    "### Part 2"
   ]
  },
  {
   "cell_type": "code",
   "execution_count": 3,
   "metadata": {},
   "outputs": [
    {
     "name": "stdout",
     "output_type": "stream",
     "text": [
      "Sum of all instructions:  54925\n"
     ]
    }
   ],
   "source": [
    "file = open(\"../Data/input_01.txt\", \"r\")\n",
    "content = file.read().split('\\n')[:-1]\n",
    "\n",
    "# adding first and last letter to preserve matches in overlapping matches: ie eightwo, nineightwo .. etc\n",
    "num_dict = {'one':'o1e', 'two':'t2o', 'three':'t3e', 'four':'f4r', 'five':'f5e', 'six':'s6x', 'seven':'s7n', 'eight':'e8t', 'nine':'n9e'}\n",
    "\n",
    "for i in range(len(content)): \n",
    "\n",
    "    for key, value in num_dict.items():\n",
    "        content[i] = content[i].replace(key, value)\n",
    "\n",
    "instructions = find_instructions(content)\n",
    "print('Sum of all instructions: ', sum(instructions))\n",
    "file.close()"
   ]
  },
  {
   "cell_type": "code",
   "execution_count": null,
   "metadata": {},
   "outputs": [],
   "source": []
  }
 ],
 "metadata": {
  "kernelspec": {
   "display_name": "dev",
   "language": "python",
   "name": "python3"
  },
  "language_info": {
   "codemirror_mode": {
    "name": "ipython",
    "version": 3
   },
   "file_extension": ".py",
   "mimetype": "text/x-python",
   "name": "python",
   "nbconvert_exporter": "python",
   "pygments_lexer": "ipython3",
   "version": "3.9.12"
  }
 },
 "nbformat": 4,
 "nbformat_minor": 2
}
