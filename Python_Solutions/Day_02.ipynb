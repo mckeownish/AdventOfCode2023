{
 "cells": [
  {
   "cell_type": "markdown",
   "metadata": {},
   "source": [
    "### Part 1"
   ]
  },
  {
   "cell_type": "code",
   "execution_count": 1,
   "metadata": {},
   "outputs": [
    {
     "name": "stdout",
     "output_type": "stream",
     "text": [
      "Sum of possible game indices [1 indexing]:  3059\n"
     ]
    }
   ],
   "source": [
    "file = open(\"../Data/input_02.txt\", \"r\")\n",
    "content = file.read().split('\\n')[:-1]\n",
    "file.close()\n",
    "\n",
    "# 12 red cubes, 13 green cubes, and 14 blue cubes\n",
    "limit_dict = {'red':12, 'green':13, 'blue':14}\n",
    "\n",
    "\n",
    "def extract_colors(subgame):\n",
    "\n",
    "    color_dict = {'red':0, 'green':0, 'blue':0}\n",
    "\n",
    "    for round in subgame.split(', '):\n",
    "        draw = round.split(' ')\n",
    "        color_dict[draw[1]] += int(draw[0])\n",
    "\n",
    "    return color_dict\n",
    "\n",
    "\n",
    "impossible_game_indices = []\n",
    "\n",
    "for i, game in enumerate(content):\n",
    "\n",
    "    possible = True\n",
    "\n",
    "    for subgame in game.split(': ')[1].split('; '):\n",
    "\n",
    "        color_dict = extract_colors(subgame)\n",
    "        \n",
    "        for j in range(3):\n",
    "            if ( list(limit_dict.values())[j] - list(color_dict.values())[j]) < 0:\n",
    "                possible = False\n",
    "                break\n",
    "    \n",
    "    if possible:\n",
    "        impossible_game_indices.append(i+1)\n",
    "                \n",
    "\n",
    "\n",
    "print('Sum of possible game indices [1 indexing]: ', sum(impossible_game_indices) )\n"
   ]
  },
  {
   "cell_type": "markdown",
   "metadata": {},
   "source": [
    "### Part 2"
   ]
  },
  {
   "cell_type": "code",
   "execution_count": 2,
   "metadata": {},
   "outputs": [
    {
     "name": "stdout",
     "output_type": "stream",
     "text": [
      "Sum of min color game power multiplication:  65371\n"
     ]
    }
   ],
   "source": [
    "file = open(\"../Data/input_02.txt\", \"r\")\n",
    "content = file.read().split('\\n')[:-1]\n",
    "file.close()\n",
    "\n",
    "\n",
    "def min_colors(game):\n",
    "\n",
    "    color_dict = {'red':0, 'green':0, 'blue':0}\n",
    "\n",
    "    for subgame in game.split(': ')[1].split('; '):\n",
    "        for round in subgame.split(', '):\n",
    "            draw = round.split(' ')\n",
    "\n",
    "            color_dict[draw[1]] = max( color_dict[draw[1]], int( draw[0] ) )\n",
    "\n",
    "    return color_dict\n",
    "\n",
    "\n",
    "power_cubes = []\n",
    "\n",
    "for i, game in enumerate(content):\n",
    "\n",
    "    color_dict = min_colors(game)\n",
    "    a,b,c = color_dict.values()\n",
    "\n",
    "    power_cubes.append(a*b*c)\n",
    "                \n",
    "\n",
    "\n",
    "print('Sum of min color game power multiplication: ', sum(power_cubes) )\n",
    " "
   ]
  }
 ],
 "metadata": {
  "kernelspec": {
   "display_name": "dev",
   "language": "python",
   "name": "python3"
  },
  "language_info": {
   "codemirror_mode": {
    "name": "ipython",
    "version": 3
   },
   "file_extension": ".py",
   "mimetype": "text/x-python",
   "name": "python",
   "nbconvert_exporter": "python",
   "pygments_lexer": "ipython3",
   "version": "3.9.12"
  }
 },
 "nbformat": 4,
 "nbformat_minor": 2
}
