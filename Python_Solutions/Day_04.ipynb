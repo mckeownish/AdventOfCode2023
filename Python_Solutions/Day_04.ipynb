{
 "cells": [
  {
   "cell_type": "markdown",
   "metadata": {},
   "source": [
    "### Part 1"
   ]
  },
  {
   "cell_type": "code",
   "execution_count": 3,
   "metadata": {},
   "outputs": [
    {
     "name": "stdout",
     "output_type": "stream",
     "text": [
      "The sum of all winnings:  21821\n"
     ]
    }
   ],
   "source": [
    "file = open(\"../Data/input_04.txt\", \"r\")\n",
    "content = file.read().split('\\n')[:-1]\n",
    "file.close()\n",
    "\n",
    "def extract_numbers_from_card(card):\n",
    "\n",
    "    winners, card_nums = card.split(': ')[1].strip().split(' | ')\n",
    "\n",
    "    winners = winners.split()\n",
    "    card_nums = card_nums.split()\n",
    "\n",
    "    return winners, card_nums\n",
    "\n",
    "\n",
    "wins_list = []\n",
    "\n",
    "for card in content:\n",
    "\n",
    "    wins = 0 \n",
    "    winners, card_nums = extract_numbers_from_card(card)\n",
    "\n",
    "    for num in card_nums:\n",
    "        if num in winners:\n",
    "            wins += 1\n",
    "\n",
    "    wins_list.append(wins)\n",
    "\n",
    "\n",
    "two_power_sum = 0\n",
    "\n",
    "for w in wins_list:\n",
    "\n",
    "    if w > 0:\n",
    "        two_power_sum += 2**(w-1)\n",
    "\n",
    "\n",
    "print('The sum of all winnings: ', two_power_sum)\n"
   ]
  },
  {
   "cell_type": "markdown",
   "metadata": {},
   "source": [
    "### Part 2"
   ]
  },
  {
   "cell_type": "code",
   "execution_count": 2,
   "metadata": {},
   "outputs": [
    {
     "name": "stdout",
     "output_type": "stream",
     "text": [
      "Total number of tickets:  5539496\n"
     ]
    }
   ],
   "source": [
    "winning_dict = {}\n",
    "for i, n in enumerate(wins_list):\n",
    "    winning_dict[i] = list(range(i+1,n+i+1))\n",
    "\n",
    "initial_tickets = list(winning_dict.keys())\n",
    "\n",
    "count = 0\n",
    "iterative_winnings = initial_tickets\n",
    "\n",
    "while len(iterative_winnings) > 0:\n",
    "\n",
    "    new = []\n",
    "    for t in iterative_winnings:\n",
    "        new.append(winning_dict[t])\n",
    "        count += 1\n",
    "\n",
    "    iterative_winnings = [w for win in new for w in win]\n",
    "\n",
    "print('Total number of tickets: ', count)"
   ]
  },
  {
   "cell_type": "code",
   "execution_count": null,
   "metadata": {},
   "outputs": [],
   "source": []
  }
 ],
 "metadata": {
  "kernelspec": {
   "display_name": "dev",
   "language": "python",
   "name": "python3"
  },
  "language_info": {
   "codemirror_mode": {
    "name": "ipython",
    "version": 3
   },
   "file_extension": ".py",
   "mimetype": "text/x-python",
   "name": "python",
   "nbconvert_exporter": "python",
   "pygments_lexer": "ipython3",
   "version": "3.9.12"
  }
 },
 "nbformat": 4,
 "nbformat_minor": 2
}
