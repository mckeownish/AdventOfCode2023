{
 "cells": [
  {
   "cell_type": "markdown",
   "metadata": {},
   "source": [
    "### Part 1"
   ]
  },
  {
   "cell_type": "code",
   "execution_count": 3,
   "metadata": {},
   "outputs": [
    {
     "name": "stdout",
     "output_type": "stream",
     "text": [
      "The sum of all winnings:  21821\n"
     ]
    }
   ],
   "source": [
    "file = open(\"../Data/input_04.txt\", \"r\")\n",
    "content = file.read().split('\\n')[:-1]\n",
    "file.close()\n",
    "\n",
    "def extract_numbers_from_card(card):\n",
    "\n",
    "    winners, card_nums = card.split(': ')[1].strip().split(' | ')\n",
    "\n",
    "    winners = winners.split()\n",
    "    card_nums = card_nums.split()\n",
    "\n",
    "    return winners, card_nums\n",
    "\n",
    "\n",
    "wins_list = []\n",
    "\n",
    "for card in content:\n",
    "\n",
    "    wins = 0 \n",
    "    winners, card_nums = extract_numbers_from_card(card)\n",
    "\n",
    "    for num in card_nums:\n",
    "        if num in winners:\n",
    "            wins += 1\n",
    "\n",
    "    wins_list.append(wins)\n",
    "\n",
    "\n",
    "two_power_sum = 0\n",
    "\n",
    "for w in wins_list:\n",
    "\n",
    "    if w > 0:\n",
    "        two_power_sum += 2**(w-1)\n",
    "\n",
    "\n",
    "print('The sum of all winnings: ', two_power_sum)\n"
   ]
  },
  {
   "cell_type": "markdown",
   "metadata": {},
   "source": [
    "### Part 2"
   ]
  },
  {
   "cell_type": "code",
   "execution_count": 2,
   "metadata": {},
   "outputs": [
    {
     "name": "stdout",
     "output_type": "stream",
     "text": [
      "Total number of tickets:  5539496\n"
     ]
    }
   ],
   "source": [
    "# We know exactly what the winnings of each ticket will be\n",
    "# Create a dict that for each ticket index gives a list of indices of winning tickets\n",
    "# ie: {0:[1, 2, 3], 1:[], 2:[3, 4, 5, 6, 7] ... }\n",
    "# 0 has 3 points, therefore we win 3 tickets with index 1, 2 & 3\n",
    "\n",
    "winning_dict = {}\n",
    "for i, n in enumerate(wins_list):\n",
    "    winning_dict[i] = list(range(i+1,n+i+1))\n",
    "\n",
    "# counter for every time we loop through a ticket index \n",
    "# will give us the total number of tickets\n",
    "count = 0\n",
    "\n",
    "# starting with our initial tickets\n",
    "iterative_winnings = list(winning_dict.keys())\n",
    "\n",
    "# lets hope this is a convergent process!\n",
    "while len(iterative_winnings) > 0:\n",
    "\n",
    "    # temp new list of lists\n",
    "    new = []\n",
    "    for t in iterative_winnings:\n",
    "        new.append(winning_dict[t])\n",
    "        count += 1\n",
    "\n",
    "    # flatten the temp list -> shuffle the lists so new input overwrites old input \n",
    "    # loop over new list if is non-empty \n",
    "    iterative_winnings = [w for win in new for w in win]\n",
    "\n",
    "print('Total number of tickets: ', count)"
   ]
  },
  {
   "cell_type": "code",
   "execution_count": null,
   "metadata": {},
   "outputs": [],
   "source": []
  }
 ],
 "metadata": {
  "kernelspec": {
   "display_name": "dev",
   "language": "python",
   "name": "python3"
  },
  "language_info": {
   "codemirror_mode": {
    "name": "ipython",
    "version": 3
   },
   "file_extension": ".py",
   "mimetype": "text/x-python",
   "name": "python",
   "nbconvert_exporter": "python",
   "pygments_lexer": "ipython3",
   "version": "3.9.12"
  }
 },
 "nbformat": 4,
 "nbformat_minor": 2
}
